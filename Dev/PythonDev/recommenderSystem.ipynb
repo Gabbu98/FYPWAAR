{
 "cells": [
  {
   "cell_type": "code",
   "execution_count": 540,
   "outputs": [
    {
     "data": {
      "text/plain": "   id  id2   task  TaskId  rating\n0   0    1  11010       1       7\n1   1    1  10010       2       7\n2   2    1  11010       3       8\n3   3    1   1000       4       7\n4   4    1  10000       5       6",
      "text/html": "<div>\n<style scoped>\n    .dataframe tbody tr th:only-of-type {\n        vertical-align: middle;\n    }\n\n    .dataframe tbody tr th {\n        vertical-align: top;\n    }\n\n    .dataframe thead th {\n        text-align: right;\n    }\n</style>\n<table border=\"1\" class=\"dataframe\">\n  <thead>\n    <tr style=\"text-align: right;\">\n      <th></th>\n      <th>id</th>\n      <th>id2</th>\n      <th>task</th>\n      <th>TaskId</th>\n      <th>rating</th>\n    </tr>\n  </thead>\n  <tbody>\n    <tr>\n      <td>0</td>\n      <td>0</td>\n      <td>1</td>\n      <td>11010</td>\n      <td>1</td>\n      <td>7</td>\n    </tr>\n    <tr>\n      <td>1</td>\n      <td>1</td>\n      <td>1</td>\n      <td>10010</td>\n      <td>2</td>\n      <td>7</td>\n    </tr>\n    <tr>\n      <td>2</td>\n      <td>2</td>\n      <td>1</td>\n      <td>11010</td>\n      <td>3</td>\n      <td>8</td>\n    </tr>\n    <tr>\n      <td>3</td>\n      <td>3</td>\n      <td>1</td>\n      <td>1000</td>\n      <td>4</td>\n      <td>7</td>\n    </tr>\n    <tr>\n      <td>4</td>\n      <td>4</td>\n      <td>1</td>\n      <td>10000</td>\n      <td>5</td>\n      <td>6</td>\n    </tr>\n  </tbody>\n</table>\n</div>"
     },
     "metadata": {},
     "output_type": "execute_result",
     "execution_count": 540
    }
   ],
   "source": [
    "\n",
    "\n",
    "import numpy as np\n",
    "import pandas as pd\n",
    "\n",
    "import sklearn\n",
    "from sklearn.decomposition import TruncatedSVD\n",
    "\n",
    "columns = ['id','id2','task','TaskId','rating']\n",
    "frame = pd.read_csv('DataInterviewVisitor.csv',sep=',', names=columns)\n",
    "frame.head()"
   ],
   "metadata": {
    "collapsed": false,
    "pycharm": {
     "name": "#%%\n",
     "is_executing": false
    }
   }
  },
  {
   "cell_type": "code",
   "execution_count": 541,
   "outputs": [
    {
     "data": {
      "text/plain": "   TaskId TaskName   Task\n0       1    Task1  11010\n1       2    Task2  10010\n2       3    Task3  11010\n3       4    Task4   1000\n4       5    Task5  10000",
      "text/html": "<div>\n<style scoped>\n    .dataframe tbody tr th:only-of-type {\n        vertical-align: middle;\n    }\n\n    .dataframe tbody tr th {\n        vertical-align: top;\n    }\n\n    .dataframe thead th {\n        text-align: right;\n    }\n</style>\n<table border=\"1\" class=\"dataframe\">\n  <thead>\n    <tr style=\"text-align: right;\">\n      <th></th>\n      <th>TaskId</th>\n      <th>TaskName</th>\n      <th>Task</th>\n    </tr>\n  </thead>\n  <tbody>\n    <tr>\n      <td>0</td>\n      <td>1</td>\n      <td>Task1</td>\n      <td>11010</td>\n    </tr>\n    <tr>\n      <td>1</td>\n      <td>2</td>\n      <td>Task2</td>\n      <td>10010</td>\n    </tr>\n    <tr>\n      <td>2</td>\n      <td>3</td>\n      <td>Task3</td>\n      <td>11010</td>\n    </tr>\n    <tr>\n      <td>3</td>\n      <td>4</td>\n      <td>Task4</td>\n      <td>1000</td>\n    </tr>\n    <tr>\n      <td>4</td>\n      <td>5</td>\n      <td>Task5</td>\n      <td>10000</td>\n    </tr>\n  </tbody>\n</table>\n</div>"
     },
     "metadata": {},
     "output_type": "execute_result",
     "execution_count": 541
    }
   ],
   "source": [
    "columns2 =['TaskId','TaskName','Task']\n",
    "tasks = pd.read_csv('TasksInterviewVisitor.csv', sep=',', names = columns2, encoding='latin-1')\n",
    "task_names = tasks[['TaskId','TaskName','Task']]\n",
    "task_names.head()\n"
   ],
   "metadata": {
    "collapsed": false,
    "pycharm": {
     "name": "#%%\n",
     "is_executing": false
    }
   }
  },
  {
   "cell_type": "code",
   "execution_count": 542,
   "outputs": [
    {
     "data": {
      "text/plain": "   id  id2   task  TaskId  rating TaskName   Task\n0   0    1  11010       1       7    Task1  11010\n1   6    1  11010       1       9    Task1  11010\n2   7    1  11010       1       7    Task1  11010\n3  19    1  11010       1      10    Task1  11010\n4  22    1  11010       1       4    Task1  11010",
      "text/html": "<div>\n<style scoped>\n    .dataframe tbody tr th:only-of-type {\n        vertical-align: middle;\n    }\n\n    .dataframe tbody tr th {\n        vertical-align: top;\n    }\n\n    .dataframe thead th {\n        text-align: right;\n    }\n</style>\n<table border=\"1\" class=\"dataframe\">\n  <thead>\n    <tr style=\"text-align: right;\">\n      <th></th>\n      <th>id</th>\n      <th>id2</th>\n      <th>task</th>\n      <th>TaskId</th>\n      <th>rating</th>\n      <th>TaskName</th>\n      <th>Task</th>\n    </tr>\n  </thead>\n  <tbody>\n    <tr>\n      <td>0</td>\n      <td>0</td>\n      <td>1</td>\n      <td>11010</td>\n      <td>1</td>\n      <td>7</td>\n      <td>Task1</td>\n      <td>11010</td>\n    </tr>\n    <tr>\n      <td>1</td>\n      <td>6</td>\n      <td>1</td>\n      <td>11010</td>\n      <td>1</td>\n      <td>9</td>\n      <td>Task1</td>\n      <td>11010</td>\n    </tr>\n    <tr>\n      <td>2</td>\n      <td>7</td>\n      <td>1</td>\n      <td>11010</td>\n      <td>1</td>\n      <td>7</td>\n      <td>Task1</td>\n      <td>11010</td>\n    </tr>\n    <tr>\n      <td>3</td>\n      <td>19</td>\n      <td>1</td>\n      <td>11010</td>\n      <td>1</td>\n      <td>10</td>\n      <td>Task1</td>\n      <td>11010</td>\n    </tr>\n    <tr>\n      <td>4</td>\n      <td>22</td>\n      <td>1</td>\n      <td>11010</td>\n      <td>1</td>\n      <td>4</td>\n      <td>Task1</td>\n      <td>11010</td>\n    </tr>\n  </tbody>\n</table>\n</div>"
     },
     "metadata": {},
     "output_type": "execute_result",
     "execution_count": 542
    }
   ],
   "source": [
    "combined_task_data = pd.merge(frame, task_names, on='TaskId')\n",
    "combined_task_data.head()"
   ],
   "metadata": {
    "collapsed": false,
    "pycharm": {
     "name": "#%%\n",
     "is_executing": false
    }
   }
  },
  {
   "cell_type": "code",
   "execution_count": 543,
   "outputs": [
    {
     "data": {
      "text/plain": "array(['Task1'], dtype=object)"
     },
     "metadata": {},
     "output_type": "execute_result",
     "execution_count": 543
    }
   ],
   "source": [
    "combined_task_data.groupby('TaskId')['rating'].count().sort_values(ascending=True).head()\n",
    "\n",
    "filter_interview = combined_task_data['TaskId']==1\n",
    "combined_task_data[filter_interview]['TaskName'].unique()"
   ],
   "metadata": {
    "collapsed": false,
    "pycharm": {
     "name": "#%%\n",
     "is_executing": false
    }
   }
  },
  {
   "cell_type": "code",
   "execution_count": 544,
   "outputs": [
    {
     "data": {
      "text/plain": "TaskName  Task1  Task10  Task11  Task2  Task3  Task4  Task5  Task6  Task7  \\\nid                                                                          \n0             7       0       0      0      0      0      0      0      0   \n1             0       0       0      7      0      0      0      0      0   \n2             0       0       0      0      8      0      0      0      0   \n3             0       0       0      0      0      7      0      0      0   \n4             0       0       0      0      0      0      6      0      0   \n..          ...     ...     ...    ...    ...    ...    ...    ...    ...   \n96            0       0       0      0      0      0      0      0      9   \n97            0       0       0      0      0      0      0      0      9   \n98            0       0       0      6      0      0      0      0      0   \n99            0       0       0      0      0      0      7      0      0   \n100           0       0       0      5      0      0      0      0      0   \n\nTaskName  Task8  Task9  \nid                      \n0             0      0  \n1             0      0  \n2             0      0  \n3             0      0  \n4             0      0  \n..          ...    ...  \n96            0      0  \n97            0      0  \n98            0      0  \n99            0      0  \n100           0      0  \n\n[101 rows x 11 columns]",
      "text/html": "<div>\n<style scoped>\n    .dataframe tbody tr th:only-of-type {\n        vertical-align: middle;\n    }\n\n    .dataframe tbody tr th {\n        vertical-align: top;\n    }\n\n    .dataframe thead th {\n        text-align: right;\n    }\n</style>\n<table border=\"1\" class=\"dataframe\">\n  <thead>\n    <tr style=\"text-align: right;\">\n      <th>TaskName</th>\n      <th>Task1</th>\n      <th>Task10</th>\n      <th>Task11</th>\n      <th>Task2</th>\n      <th>Task3</th>\n      <th>Task4</th>\n      <th>Task5</th>\n      <th>Task6</th>\n      <th>Task7</th>\n      <th>Task8</th>\n      <th>Task9</th>\n    </tr>\n    <tr>\n      <th>id</th>\n      <th></th>\n      <th></th>\n      <th></th>\n      <th></th>\n      <th></th>\n      <th></th>\n      <th></th>\n      <th></th>\n      <th></th>\n      <th></th>\n      <th></th>\n    </tr>\n  </thead>\n  <tbody>\n    <tr>\n      <td>0</td>\n      <td>7</td>\n      <td>0</td>\n      <td>0</td>\n      <td>0</td>\n      <td>0</td>\n      <td>0</td>\n      <td>0</td>\n      <td>0</td>\n      <td>0</td>\n      <td>0</td>\n      <td>0</td>\n    </tr>\n    <tr>\n      <td>1</td>\n      <td>0</td>\n      <td>0</td>\n      <td>0</td>\n      <td>7</td>\n      <td>0</td>\n      <td>0</td>\n      <td>0</td>\n      <td>0</td>\n      <td>0</td>\n      <td>0</td>\n      <td>0</td>\n    </tr>\n    <tr>\n      <td>2</td>\n      <td>0</td>\n      <td>0</td>\n      <td>0</td>\n      <td>0</td>\n      <td>8</td>\n      <td>0</td>\n      <td>0</td>\n      <td>0</td>\n      <td>0</td>\n      <td>0</td>\n      <td>0</td>\n    </tr>\n    <tr>\n      <td>3</td>\n      <td>0</td>\n      <td>0</td>\n      <td>0</td>\n      <td>0</td>\n      <td>0</td>\n      <td>7</td>\n      <td>0</td>\n      <td>0</td>\n      <td>0</td>\n      <td>0</td>\n      <td>0</td>\n    </tr>\n    <tr>\n      <td>4</td>\n      <td>0</td>\n      <td>0</td>\n      <td>0</td>\n      <td>0</td>\n      <td>0</td>\n      <td>0</td>\n      <td>6</td>\n      <td>0</td>\n      <td>0</td>\n      <td>0</td>\n      <td>0</td>\n    </tr>\n    <tr>\n      <td>...</td>\n      <td>...</td>\n      <td>...</td>\n      <td>...</td>\n      <td>...</td>\n      <td>...</td>\n      <td>...</td>\n      <td>...</td>\n      <td>...</td>\n      <td>...</td>\n      <td>...</td>\n      <td>...</td>\n    </tr>\n    <tr>\n      <td>96</td>\n      <td>0</td>\n      <td>0</td>\n      <td>0</td>\n      <td>0</td>\n      <td>0</td>\n      <td>0</td>\n      <td>0</td>\n      <td>0</td>\n      <td>9</td>\n      <td>0</td>\n      <td>0</td>\n    </tr>\n    <tr>\n      <td>97</td>\n      <td>0</td>\n      <td>0</td>\n      <td>0</td>\n      <td>0</td>\n      <td>0</td>\n      <td>0</td>\n      <td>0</td>\n      <td>0</td>\n      <td>9</td>\n      <td>0</td>\n      <td>0</td>\n    </tr>\n    <tr>\n      <td>98</td>\n      <td>0</td>\n      <td>0</td>\n      <td>0</td>\n      <td>6</td>\n      <td>0</td>\n      <td>0</td>\n      <td>0</td>\n      <td>0</td>\n      <td>0</td>\n      <td>0</td>\n      <td>0</td>\n    </tr>\n    <tr>\n      <td>99</td>\n      <td>0</td>\n      <td>0</td>\n      <td>0</td>\n      <td>0</td>\n      <td>0</td>\n      <td>0</td>\n      <td>7</td>\n      <td>0</td>\n      <td>0</td>\n      <td>0</td>\n      <td>0</td>\n    </tr>\n    <tr>\n      <td>100</td>\n      <td>0</td>\n      <td>0</td>\n      <td>0</td>\n      <td>5</td>\n      <td>0</td>\n      <td>0</td>\n      <td>0</td>\n      <td>0</td>\n      <td>0</td>\n      <td>0</td>\n      <td>0</td>\n    </tr>\n  </tbody>\n</table>\n<p>101 rows × 11 columns</p>\n</div>"
     },
     "metadata": {},
     "output_type": "execute_result",
     "execution_count": 544
    }
   ],
   "source": [
    "rating_crosstab = combined_task_data.pivot_table(values='rating', index='id', columns=['TaskName'], fill_value=0)\n",
    "rating_crosstab"
   ],
   "metadata": {
    "collapsed": false,
    "pycharm": {
     "name": "#%%\n",
     "is_executing": false
    }
   }
  },
  {
   "cell_type": "code",
   "execution_count": 545,
   "outputs": [
    {
     "data": {
      "text/plain": "(11, 101)"
     },
     "metadata": {},
     "output_type": "execute_result",
     "execution_count": 545
    }
   ],
   "source": [
    "rating_crosstab.shape\n",
    "X = rating_crosstab.T\n",
    "X.shape"
   ],
   "metadata": {
    "collapsed": false,
    "pycharm": {
     "name": "#%%\n",
     "is_executing": false
    }
   }
  },
  {
   "cell_type": "code",
   "execution_count": 546,
   "outputs": [
    {
     "data": {
      "text/plain": "(11, 11)"
     },
     "metadata": {},
     "output_type": "execute_result",
     "execution_count": 546
    }
   ],
   "source": [
    "SVD = TruncatedSVD(n_components=11, random_state=0)\n",
    "\n",
    "resultant_matrix = SVD.fit_transform(X)\n",
    "\n",
    "resultant_matrix.shape"
   ],
   "metadata": {
    "collapsed": false,
    "pycharm": {
     "name": "#%%\n",
     "is_executing": false
    }
   }
  },
  {
   "cell_type": "code",
   "execution_count": 547,
   "outputs": [
    {
     "data": {
      "text/plain": "array([ 1. , -0.1, -0.1, -0.1, -0.1, -0.1, -0.1, -0.1, -0.1, -0.1, -0.1])"
     },
     "metadata": {},
     "output_type": "execute_result",
     "execution_count": 547
    }
   ],
   "source": [
    "corr_mat = np.corrcoef(resultant_matrix)\n",
    "corr_mat.shape\n",
    "task_names = rating_crosstab.columns\n",
    "task_list = list(task_names)\n",
    "task_list\n",
    "task = task_list.index('Task1')\n",
    "task\n",
    "corr_star_wars = corr_mat[task]\n",
    "corr_star_wars.shape\n",
    "corr_star_wars"
   ],
   "metadata": {
    "collapsed": false,
    "pycharm": {
     "name": "#%%\n",
     "is_executing": false
    }
   }
  },
  {
   "cell_type": "code",
   "execution_count": 548,
   "outputs": [
    {
     "data": {
      "text/plain": "['Task2', 'Task4', 'Task9']"
     },
     "metadata": {},
     "output_type": "execute_result",
     "execution_count": 548
    }
   ],
   "source": [
    "list(task_names[(corr_star_wars<1) & (corr_star_wars > -0.1)])\n"
   ],
   "metadata": {
    "collapsed": false,
    "pycharm": {
     "name": "#%%\n",
     "is_executing": false
    }
   }
  }
 ],
 "metadata": {
  "kernelspec": {
   "display_name": "Python 3",
   "language": "python",
   "name": "python3"
  },
  "language_info": {
   "codemirror_mode": {
    "name": "ipython",
    "version": 2
   },
   "file_extension": ".py",
   "mimetype": "text/x-python",
   "name": "python",
   "nbconvert_exporter": "python",
   "pygments_lexer": "ipython2",
   "version": "2.7.6"
  },
  "pycharm": {
   "stem_cell": {
    "cell_type": "raw",
    "source": [],
    "metadata": {
     "collapsed": false
    }
   }
  }
 },
 "nbformat": 4,
 "nbformat_minor": 0
}